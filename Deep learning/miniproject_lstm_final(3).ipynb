{
  "nbformat": 4,
  "nbformat_minor": 0,
  "metadata": {
    "colab": {
      "name": "miniproject_lstm_final(3).ipynb",
      "version": "0.3.2",
      "provenance": []
    },
    "kernelspec": {
      "name": "python3",
      "display_name": "Python 3"
    },
    "accelerator": "GPU"
  },
  "cells": [
    {
      "metadata": {
        "id": "mrtaOvL8mg11",
        "colab_type": "code",
        "outputId": "6a59c270-c601-4ea7-a41a-68e592e36777",
        "colab": {
          "base_uri": "https://localhost:8080/",
          "height": 54
        }
      },
      "cell_type": "code",
      "source": [
        "import pandas as pd\n",
        "import numpy as np\n",
        "import nltk\n",
        "nltk.download(\"stopwords\")\n",
        "import string\n",
        "import matplotlib.pyplot as plt"
      ],
      "execution_count": 1,
      "outputs": [
        {
          "output_type": "stream",
          "text": [
            "[nltk_data] Downloading package stopwords to /root/nltk_data...\n",
            "[nltk_data]   Unzipping corpora/stopwords.zip.\n"
          ],
          "name": "stdout"
        }
      ]
    },
    {
      "metadata": {
        "id": "gJtBhvyT6vDx",
        "colab_type": "code",
        "outputId": "edfb98b6-69c8-473a-e557-ab14c6b66fe7",
        "colab": {
          "base_uri": "https://localhost:8080/",
          "height": 35
        }
      },
      "cell_type": "code",
      "source": [
        "from keras.models import Sequential\n",
        "from keras.layers import Dense\n",
        "from keras.layers import Flatten\n",
        "from keras.layers import Embedding\n",
        "import time\n",
        "start = time.time()"
      ],
      "execution_count": 2,
      "outputs": [
        {
          "output_type": "stream",
          "text": [
            "Using TensorFlow backend.\n"
          ],
          "name": "stderr"
        }
      ]
    },
    {
      "metadata": {
        "id": "k6gl5GA2mv-W",
        "colab_type": "code",
        "colab": {}
      },
      "cell_type": "code",
      "source": [
        "\n",
        "def load_data(path):\n",
        "    data = pd.read_csv(path)\n",
        "    x = data['reviewText'].tolist()\n",
        "    y = data['sentiment'].tolist()\n",
        "    return x, y\n"
      ],
      "execution_count": 0,
      "outputs": []
    },
    {
      "metadata": {
        "id": "JP2Eu7FZ3seC",
        "colab_type": "code",
        "colab": {}
      },
      "cell_type": "code",
      "source": [
        "lemmatizer = nltk.WordNetLemmatizer()\n",
        "stopwords = nltk.corpus.stopwords.words('english')\n",
        "transtbl = str.maketrans(string.punctuation, ' ' * len(string.punctuation))"
      ],
      "execution_count": 0,
      "outputs": []
    },
    {
      "metadata": {
        "id": "x2X2WJHM28Nj",
        "colab_type": "code",
        "colab": {}
      },
      "cell_type": "code",
      "source": [
        "def preprocessing(line):\n",
        "    line = line.replace('<br />', '')   \n",
        "    line = line.translate(transtbl)     \n",
        "    \n",
        "    \n",
        "    tokens = []\n",
        "    for t in nltk.word_tokenize(line):\n",
        "        t = t.lower()\n",
        "        if t not in stopwords:\n",
        "            lemma = lemmatizer.lemmatize(t, 'v')\n",
        "            tokens.append(lemma)\n",
        "            \n",
        "    return ' '.join(tokens)"
      ],
      "execution_count": 0,
      "outputs": []
    },
    {
      "metadata": {
        "id": "LzzM3cDpm4Rj",
        "colab_type": "code",
        "colab": {}
      },
      "cell_type": "code",
      "source": [
        "import numpy as np\n",
        "from keras.models import Model\n",
        "from keras.layers import Dense, Input, Dropout, LSTM, Activation, Embedding\n",
        "from keras.preprocessing import sequence\n",
        "\n",
        "np.random.seed(1)"
      ],
      "execution_count": 0,
      "outputs": []
    },
    {
      "metadata": {
        "id": "Nt0XFivPnHBl",
        "colab_type": "code",
        "outputId": "8bfb6d8d-54d6-4426-a222-7955b16a57ed",
        "colab": {
          "resources": {
            "http://localhost:8080/nbextensions/google.colab/files.js": {
              "data": "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",
              "ok": true,
              "headers": [
                [
                  "content-type",
                  "application/javascript"
                ]
              ],
              "status": 200,
              "status_text": "OK"
            }
          },
          "base_uri": "https://localhost:8080/",
          "height": 95
        }
      },
      "cell_type": "code",
      "source": [
        "from google.colab import files\n",
        "\n",
        "uploaded = files.upload()\n",
        "\n",
        "for fn in uploaded.keys():\n",
        "  print('User uploaded file \"{name}\" with length {length} bytes'.format(\n",
        "      name=fn, length=len(uploaded[fn])))"
      ],
      "execution_count": 0,
      "outputs": [
        {
          "output_type": "display_data",
          "data": {
            "text/html": [
              "\n",
              "     <input type=\"file\" id=\"files-642cb397-1ebd-444a-87c3-f800411c5e6c\" name=\"files[]\" multiple disabled />\n",
              "     <output id=\"result-642cb397-1ebd-444a-87c3-f800411c5e6c\">\n",
              "      Upload widget is only available when the cell has been executed in the\n",
              "      current browser session. Please rerun this cell to enable.\n",
              "      </output>\n",
              "      <script src=\"/nbextensions/google.colab/files.js\"></script> "
            ],
            "text/plain": [
              "<IPython.core.display.HTML object>"
            ]
          },
          "metadata": {
            "tags": []
          }
        },
        {
          "output_type": "stream",
          "text": [
            "Saving glove.6B.50d.txt to glove.6B.50d.txt\n",
            "User uploaded file \"glove.6B.50d.txt\" with length 171350079 bytes\n"
          ],
          "name": "stdout"
        }
      ]
    },
    {
      "metadata": {
        "id": "PdXqnWoFofb-",
        "colab_type": "code",
        "colab": {}
      },
      "cell_type": "code",
      "source": [
        "def read_glove_vec(glove_file):\n",
        "    with open(glove_file, 'r', encoding='utf-8', errors='ignore') as f:\n",
        "        words = set()\n",
        "        word_to_vec_map = {}\n",
        "        for line in f:\n",
        "            line = line.strip().split()\n",
        "            curr_word = line[0]\n",
        "            words.add(curr_word)\n",
        "            word_to_vec_map[curr_word] = np.array(line[1:], dtype=np.float64)\n",
        "        \n",
        "        i = 1\n",
        "        words_to_index = {}\n",
        "        for w in sorted(words):\n",
        "            words_to_index[w] = i\n",
        "            i = i + 1\n",
        "    return words_to_index, word_to_vec_map"
      ],
      "execution_count": 0,
      "outputs": []
    },
    {
      "metadata": {
        "id": "Xs65QQp-m_a2",
        "colab_type": "code",
        "colab": {}
      },
      "cell_type": "code",
      "source": [
        "word_to_index, word_to_vec_map = read_glove_vec('glove.6B.50d.txt')"
      ],
      "execution_count": 0,
      "outputs": []
    },
    {
      "metadata": {
        "id": "k27u8LYonnwF",
        "colab_type": "code",
        "colab": {}
      },
      "cell_type": "code",
      "source": [
        "from keras.preprocessing import sequence"
      ],
      "execution_count": 0,
      "outputs": []
    },
    {
      "metadata": {
        "id": "2TNcUn7k4Laa",
        "colab_type": "code",
        "outputId": "72e9e614-4903-4abc-93c4-3b7351161068",
        "colab": {
          "base_uri": "https://localhost:8080/",
          "height": 109
        }
      },
      "cell_type": "code",
      "source": [
        "nltk.download('punkt')\n",
        "nltk.download('wordnet')"
      ],
      "execution_count": 12,
      "outputs": [
        {
          "output_type": "stream",
          "text": [
            "[nltk_data] Downloading package punkt to /root/nltk_data...\n",
            "[nltk_data]   Unzipping tokenizers/punkt.zip.\n",
            "[nltk_data] Downloading package wordnet to /root/nltk_data...\n",
            "[nltk_data]   Unzipping corpora/wordnet.zip.\n"
          ],
          "name": "stdout"
        },
        {
          "output_type": "execute_result",
          "data": {
            "text/plain": [
              "True"
            ]
          },
          "metadata": {
            "tags": []
          },
          "execution_count": 12
        }
      ]
    },
    {
      "metadata": {
        "id": "xYSY1C2coE6I",
        "colab_type": "code",
        "colab": {}
      },
      "cell_type": "code",
      "source": [
        "train_x, train_y = load_data('train.csv')\n",
        "test_x, test_y = load_data('test.csv')\n",
        "train_x = [preprocessing(x) for x in train_x]\n",
        "test_x = [preprocessing(x) for x in test_x]"
      ],
      "execution_count": 0,
      "outputs": []
    },
    {
      "metadata": {
        "id": "AaP7zf2c706o",
        "colab_type": "code",
        "outputId": "2bffe272-3cdf-4fbd-84ac-c14ede799869",
        "colab": {
          "base_uri": "https://localhost:8080/",
          "height": 54
        }
      },
      "cell_type": "code",
      "source": [
        "train_y_ec = np.array([0 if x == 'neg' else 1 for x in train_y])\n",
        "test_y_ec = np.array([0 if x == 'neg' else 1 for x in test_y])\n",
        "print(train_y_ec)\n",
        "print(test_y_ec)"
      ],
      "execution_count": 14,
      "outputs": [
        {
          "output_type": "stream",
          "text": [
            "[1 1 1 ... 0 0 0]\n",
            "[1 1 1 ... 0 0 0]\n"
          ],
          "name": "stdout"
        }
      ]
    },
    {
      "metadata": {
        "id": "IB6FWNq3nqbD",
        "colab_type": "code",
        "colab": {}
      },
      "cell_type": "code",
      "source": [
        "from keras.preprocessing.text import Tokenizer\n",
        "\n",
        "tokenizer = Tokenizer()\n",
        "\n",
        "tokenizer.fit_on_texts(train_x)\n",
        "\n",
        "train_x_ec = tokenizer.texts_to_sequences(train_x)\n",
        "test_x_ec = tokenizer.texts_to_sequences(test_x)"
      ],
      "execution_count": 0,
      "outputs": []
    },
    {
      "metadata": {
        "id": "87wVIfxtoYKD",
        "colab_type": "code",
        "colab": {}
      },
      "cell_type": "code",
      "source": [
        "from keras.preprocessing.sequence import pad_sequences\n",
        "\n",
        "Xtrain = pad_sequences(train_x_ec, maxlen=100, padding='post')\n",
        "Xtest = pad_sequences(test_x_ec, maxlen=100, padding='post')"
      ],
      "execution_count": 0,
      "outputs": []
    },
    {
      "metadata": {
        "id": "33pufSq36Xrb",
        "colab_type": "code",
        "colab": {}
      },
      "cell_type": "code",
      "source": [
        "vocab_size = len(tokenizer.word_index) + 1"
      ],
      "execution_count": 0,
      "outputs": []
    },
    {
      "metadata": {
        "id": "2DpqdRD75jBZ",
        "colab_type": "code",
        "colab": {}
      },
      "cell_type": "code",
      "source": [
        "def load_embedding(filename):\n",
        "\tfile = open(filename,'r',encoding='utf-8', errors='ignore')\n",
        "\tlines = file.readlines()\n",
        "\tfile.close()\n",
        "\t\n",
        "\tembedding = dict()\n",
        "\tfor line in lines:\n",
        "\t\tparts = line.split()\n",
        "\t\tembedding[parts[0]] = np.asarray(parts[1:], dtype='float32')\n",
        "\treturn embedding"
      ],
      "execution_count": 0,
      "outputs": []
    },
    {
      "metadata": {
        "id": "1t4A4p1g5tCw",
        "colab_type": "code",
        "colab": {}
      },
      "cell_type": "code",
      "source": [
        "def get_weight_matrix(embedding, vocab):\n",
        "\tvocab_size = len(vocab) + 1\n",
        "\tweight_matrix = np.zeros((vocab_size, 50))\n",
        "\tfor word, i in vocab.items():\n",
        "\t\tvector = embedding.get(word)\n",
        "\t\tif vector is not None:\n",
        "\t\t\tweight_matrix[i] = vector\n",
        "\treturn weight_matrix"
      ],
      "execution_count": 0,
      "outputs": []
    },
    {
      "metadata": {
        "id": "mJh_RS5NovUu",
        "colab_type": "code",
        "colab": {}
      },
      "cell_type": "code",
      "source": [
        "from keras.layers import Embedding, SpatialDropout1D\n",
        "raw_embedding = load_embedding('glove.6B.50d.txt')\n",
        "embedding_vectors = get_weight_matrix(raw_embedding, tokenizer.word_index)\n",
        "embedding_layer = Embedding(vocab_size, 50, weights=[embedding_vectors], input_length=100, trainable=False)"
      ],
      "execution_count": 0,
      "outputs": []
    },
    {
      "metadata": {
        "id": "3Y2VSjVzozlk",
        "colab_type": "code",
        "outputId": "f60ae211-0928-4163-b730-cf85ec97345c",
        "colab": {
          "base_uri": "https://localhost:8080/",
          "height": 166
        }
      },
      "cell_type": "code",
      "source": [
        "lstm_model = Sequential()\n",
        "lstm_model.add(embedding_layer)\n",
        "lstm_model.add(SpatialDropout1D(0.4))\n",
        "lstm_model.add(LSTM(128, dropout=0.2, recurrent_dropout=0.2))\n",
        "lstm_model.add(Dense(20, activation='tanh'))\n",
        "lstm_model.add(Dense(1, activation='sigmoid'))\n",
        "lstm_model.compile(loss='binary_crossentropy',optimizer='adam',metrics=['accuracy'])\n",
        "end = time.time()\n",
        "print(\"Neural Network model trained in %f seconds\" % (end-start))\n"
      ],
      "execution_count": 21,
      "outputs": [
        {
          "output_type": "stream",
          "text": [
            "WARNING:tensorflow:From /usr/local/lib/python3.6/dist-packages/tensorflow/python/framework/op_def_library.py:263: colocate_with (from tensorflow.python.framework.ops) is deprecated and will be removed in a future version.\n",
            "Instructions for updating:\n",
            "Colocations handled automatically by placer.\n",
            "WARNING:tensorflow:From /usr/local/lib/python3.6/dist-packages/keras/backend/tensorflow_backend.py:3445: calling dropout (from tensorflow.python.ops.nn_ops) with keep_prob is deprecated and will be removed in a future version.\n",
            "Instructions for updating:\n",
            "Please use `rate` instead of `keep_prob`. Rate should be set to `rate = 1 - keep_prob`.\n",
            "Neural Network model trained in 441.153687 seconds\n"
          ],
          "name": "stdout"
        }
      ]
    },
    {
      "metadata": {
        "id": "C8CrbRZqo36Q",
        "colab_type": "code",
        "outputId": "5561cc04-1a6e-4d95-beeb-b9865f791ba5",
        "colab": {
          "base_uri": "https://localhost:8080/",
          "height": 9294
        }
      },
      "cell_type": "code",
      "source": [
        "start = time.time()\n",
        "\n",
        "history = lstm_model.fit(Xtrain, train_y_ec, batch_size=32, epochs = 250, verbose = 2)\n",
        "\n",
        "end = time.time()\n",
        "print(\"LSTM model trained in %f seconds\" % (end-start))"
      ],
      "execution_count": 22,
      "outputs": [
        {
          "output_type": "stream",
          "text": [
            "WARNING:tensorflow:From /usr/local/lib/python3.6/dist-packages/tensorflow/python/ops/math_ops.py:3066: to_int32 (from tensorflow.python.ops.math_ops) is deprecated and will be removed in a future version.\n",
            "Instructions for updating:\n",
            "Use tf.cast instead.\n",
            "Epoch 1/250\n",
            " - 121s - loss: 0.6786 - acc: 0.5652\n",
            "Epoch 2/250\n",
            " - 118s - loss: 0.6546 - acc: 0.6147\n",
            "Epoch 3/250\n",
            " - 121s - loss: 0.6252 - acc: 0.6591\n",
            "Epoch 4/250\n",
            " - 119s - loss: 0.5816 - acc: 0.6980\n",
            "Epoch 5/250\n",
            " - 119s - loss: 0.5471 - acc: 0.7226\n",
            "Epoch 6/250\n",
            " - 118s - loss: 0.5277 - acc: 0.7355\n",
            "Epoch 7/250\n",
            " - 118s - loss: 0.5120 - acc: 0.7472\n",
            "Epoch 8/250\n",
            " - 118s - loss: 0.5029 - acc: 0.7559\n",
            "Epoch 9/250\n",
            " - 120s - loss: 0.4924 - acc: 0.7644\n",
            "Epoch 10/250\n",
            " - 119s - loss: 0.4843 - acc: 0.7660\n",
            "Epoch 11/250\n",
            " - 120s - loss: 0.4783 - acc: 0.7706\n",
            "Epoch 12/250\n",
            " - 119s - loss: 0.4668 - acc: 0.7786\n",
            "Epoch 13/250\n",
            " - 120s - loss: 0.4591 - acc: 0.7814\n",
            "Epoch 14/250\n",
            " - 119s - loss: 0.4535 - acc: 0.7881\n",
            "Epoch 15/250\n",
            " - 118s - loss: 0.4528 - acc: 0.7894\n",
            "Epoch 16/250\n",
            " - 119s - loss: 0.4445 - acc: 0.7926\n",
            "Epoch 17/250\n",
            " - 119s - loss: 0.4416 - acc: 0.7931\n",
            "Epoch 18/250\n",
            " - 118s - loss: 0.4317 - acc: 0.7997\n",
            "Epoch 19/250\n",
            " - 118s - loss: 0.4318 - acc: 0.7972\n",
            "Epoch 20/250\n",
            " - 119s - loss: 0.4262 - acc: 0.8038\n",
            "Epoch 21/250\n",
            " - 119s - loss: 0.4230 - acc: 0.8035\n",
            "Epoch 22/250\n",
            " - 118s - loss: 0.4187 - acc: 0.8063\n",
            "Epoch 23/250\n",
            " - 117s - loss: 0.4146 - acc: 0.8094\n",
            "Epoch 24/250\n",
            " - 119s - loss: 0.4115 - acc: 0.8113\n",
            "Epoch 25/250\n",
            " - 117s - loss: 0.4075 - acc: 0.8134\n",
            "Epoch 26/250\n",
            " - 118s - loss: 0.4084 - acc: 0.8125\n",
            "Epoch 27/250\n",
            " - 118s - loss: 0.4041 - acc: 0.8102\n",
            "Epoch 28/250\n",
            " - 117s - loss: 0.4024 - acc: 0.8168\n",
            "Epoch 29/250\n",
            " - 118s - loss: 0.3981 - acc: 0.8176\n",
            "Epoch 30/250\n",
            " - 118s - loss: 0.3957 - acc: 0.8196\n",
            "Epoch 31/250\n",
            " - 121s - loss: 0.3953 - acc: 0.8178\n",
            "Epoch 32/250\n",
            " - 125s - loss: 0.3896 - acc: 0.8240\n",
            "Epoch 33/250\n",
            " - 117s - loss: 0.3931 - acc: 0.8211\n",
            "Epoch 34/250\n",
            " - 120s - loss: 0.3904 - acc: 0.8232\n",
            "Epoch 35/250\n",
            " - 117s - loss: 0.3851 - acc: 0.8256\n",
            "Epoch 36/250\n",
            " - 116s - loss: 0.3850 - acc: 0.8254\n",
            "Epoch 37/250\n",
            " - 119s - loss: 0.3819 - acc: 0.8279\n",
            "Epoch 38/250\n",
            " - 117s - loss: 0.3800 - acc: 0.8264\n",
            "Epoch 39/250\n",
            " - 120s - loss: 0.3817 - acc: 0.8270\n",
            "Epoch 40/250\n",
            " - 121s - loss: 0.3756 - acc: 0.8313\n",
            "Epoch 41/250\n",
            " - 122s - loss: 0.3758 - acc: 0.8283\n",
            "Epoch 42/250\n",
            " - 119s - loss: 0.3715 - acc: 0.8342\n",
            "Epoch 43/250\n",
            " - 118s - loss: 0.3754 - acc: 0.8300\n",
            "Epoch 44/250\n",
            " - 116s - loss: 0.3727 - acc: 0.8306\n",
            "Epoch 45/250\n",
            " - 119s - loss: 0.3727 - acc: 0.8316\n",
            "Epoch 46/250\n",
            " - 117s - loss: 0.3671 - acc: 0.8345\n",
            "Epoch 47/250\n",
            " - 121s - loss: 0.3672 - acc: 0.8364\n",
            "Epoch 48/250\n",
            " - 118s - loss: 0.3654 - acc: 0.8364\n",
            "Epoch 49/250\n",
            " - 118s - loss: 0.3642 - acc: 0.8350\n",
            "Epoch 50/250\n",
            " - 120s - loss: 0.3631 - acc: 0.8361\n",
            "Epoch 51/250\n",
            " - 118s - loss: 0.3609 - acc: 0.8359\n",
            "Epoch 52/250\n",
            " - 117s - loss: 0.3637 - acc: 0.8374\n",
            "Epoch 53/250\n",
            " - 120s - loss: 0.3635 - acc: 0.8371\n",
            "Epoch 54/250\n",
            " - 117s - loss: 0.3583 - acc: 0.8376\n",
            "Epoch 55/250\n",
            " - 120s - loss: 0.3557 - acc: 0.8410\n",
            "Epoch 56/250\n",
            " - 118s - loss: 0.3561 - acc: 0.8400\n",
            "Epoch 57/250\n",
            " - 118s - loss: 0.3563 - acc: 0.8411\n",
            "Epoch 58/250\n",
            " - 120s - loss: 0.3531 - acc: 0.8419\n",
            "Epoch 59/250\n",
            " - 117s - loss: 0.3518 - acc: 0.8425\n",
            "Epoch 60/250\n",
            " - 120s - loss: 0.3544 - acc: 0.8422\n",
            "Epoch 61/250\n",
            " - 117s - loss: 0.3540 - acc: 0.8424\n",
            "Epoch 62/250\n",
            " - 119s - loss: 0.3512 - acc: 0.8414\n",
            "Epoch 63/250\n",
            " - 118s - loss: 0.3530 - acc: 0.8410\n",
            "Epoch 64/250\n",
            " - 119s - loss: 0.3495 - acc: 0.8453\n",
            "Epoch 65/250\n",
            " - 118s - loss: 0.3504 - acc: 0.8442\n",
            "Epoch 66/250\n",
            " - 120s - loss: 0.3525 - acc: 0.8435\n",
            "Epoch 67/250\n",
            " - 117s - loss: 0.3518 - acc: 0.8423\n",
            "Epoch 68/250\n",
            " - 120s - loss: 0.3475 - acc: 0.8459\n",
            "Epoch 69/250\n",
            " - 118s - loss: 0.3458 - acc: 0.8459\n",
            "Epoch 70/250\n",
            " - 119s - loss: 0.3526 - acc: 0.8434\n",
            "Epoch 71/250\n",
            " - 120s - loss: 0.3428 - acc: 0.8499\n",
            "Epoch 72/250\n",
            " - 119s - loss: 0.3479 - acc: 0.8457\n",
            "Epoch 73/250\n",
            " - 120s - loss: 0.3418 - acc: 0.8474\n",
            "Epoch 74/250\n",
            " - 119s - loss: 0.3432 - acc: 0.8489\n",
            "Epoch 75/250\n",
            " - 118s - loss: 0.3404 - acc: 0.8499\n",
            "Epoch 76/250\n",
            " - 119s - loss: 0.3405 - acc: 0.8482\n",
            "Epoch 77/250\n",
            " - 118s - loss: 0.3442 - acc: 0.8477\n",
            "Epoch 78/250\n",
            " - 118s - loss: 0.3445 - acc: 0.8470\n",
            "Epoch 79/250\n",
            " - 120s - loss: 0.3413 - acc: 0.8479\n",
            "Epoch 80/250\n",
            " - 117s - loss: 0.3387 - acc: 0.8492\n",
            "Epoch 81/250\n",
            " - 120s - loss: 0.3423 - acc: 0.8462\n",
            "Epoch 82/250\n",
            " - 117s - loss: 0.3358 - acc: 0.8505\n",
            "Epoch 83/250\n",
            " - 118s - loss: 0.3378 - acc: 0.8507\n",
            "Epoch 84/250\n",
            " - 119s - loss: 0.3410 - acc: 0.8461\n",
            "Epoch 85/250\n",
            " - 118s - loss: 0.3346 - acc: 0.8513\n",
            "Epoch 86/250\n",
            " - 117s - loss: 0.3362 - acc: 0.8533\n",
            "Epoch 87/250\n",
            " - 118s - loss: 0.3401 - acc: 0.8522\n",
            "Epoch 88/250\n",
            " - 117s - loss: 0.3347 - acc: 0.8530\n",
            "Epoch 89/250\n",
            " - 120s - loss: 0.3323 - acc: 0.8526\n",
            "Epoch 90/250\n",
            " - 116s - loss: 0.3368 - acc: 0.8475\n",
            "Epoch 91/250\n",
            " - 117s - loss: 0.3345 - acc: 0.8531\n",
            "Epoch 92/250\n",
            " - 119s - loss: 0.3341 - acc: 0.8506\n",
            "Epoch 93/250\n",
            " - 116s - loss: 0.3332 - acc: 0.8526\n",
            "Epoch 94/250\n",
            " - 119s - loss: 0.3251 - acc: 0.8549\n",
            "Epoch 95/250\n",
            " - 117s - loss: 0.3299 - acc: 0.8560\n",
            "Epoch 96/250\n",
            " - 118s - loss: 0.3339 - acc: 0.8536\n",
            "Epoch 97/250\n",
            " - 118s - loss: 0.3267 - acc: 0.8548\n",
            "Epoch 98/250\n",
            " - 117s - loss: 0.3311 - acc: 0.8535\n",
            "Epoch 99/250\n",
            " - 117s - loss: 0.3335 - acc: 0.8515\n",
            "Epoch 100/250\n",
            " - 119s - loss: 0.3337 - acc: 0.8531\n",
            "Epoch 101/250\n",
            " - 116s - loss: 0.3316 - acc: 0.8550\n",
            "Epoch 102/250\n",
            " - 119s - loss: 0.3335 - acc: 0.8523\n",
            "Epoch 103/250\n",
            " - 116s - loss: 0.3285 - acc: 0.8555\n",
            "Epoch 104/250\n",
            " - 117s - loss: 0.3263 - acc: 0.8574\n",
            "Epoch 105/250\n",
            " - 119s - loss: 0.3291 - acc: 0.8556\n",
            "Epoch 106/250\n",
            " - 116s - loss: 0.3290 - acc: 0.8530\n",
            "Epoch 107/250\n",
            " - 118s - loss: 0.3286 - acc: 0.8550\n",
            "Epoch 108/250\n",
            " - 118s - loss: 0.3272 - acc: 0.8556\n",
            "Epoch 109/250\n",
            " - 118s - loss: 0.3292 - acc: 0.8552\n",
            "Epoch 110/250\n",
            " - 118s - loss: 0.3202 - acc: 0.8578\n",
            "Epoch 111/250\n",
            " - 118s - loss: 0.3268 - acc: 0.8556\n",
            "Epoch 112/250\n",
            " - 117s - loss: 0.3269 - acc: 0.8541\n",
            "Epoch 113/250\n",
            " - 119s - loss: 0.3233 - acc: 0.8562\n",
            "Epoch 114/250\n",
            " - 116s - loss: 0.3282 - acc: 0.8538\n",
            "Epoch 115/250\n",
            " - 118s - loss: 0.3197 - acc: 0.8583\n",
            "Epoch 116/250\n",
            " - 118s - loss: 0.3254 - acc: 0.8546\n",
            "Epoch 117/250\n",
            " - 118s - loss: 0.3254 - acc: 0.8587\n",
            "Epoch 118/250\n",
            " - 119s - loss: 0.3257 - acc: 0.8557\n",
            "Epoch 119/250\n",
            " - 117s - loss: 0.3242 - acc: 0.8590\n",
            "Epoch 120/250\n",
            " - 119s - loss: 0.3269 - acc: 0.8572\n",
            "Epoch 121/250\n",
            " - 117s - loss: 0.3211 - acc: 0.8605\n",
            "Epoch 122/250\n",
            " - 118s - loss: 0.3237 - acc: 0.8584\n",
            "Epoch 123/250\n",
            " - 117s - loss: 0.3246 - acc: 0.8580\n",
            "Epoch 124/250\n",
            " - 118s - loss: 0.3236 - acc: 0.8593\n",
            "Epoch 125/250\n",
            " - 117s - loss: 0.3177 - acc: 0.8588\n",
            "Epoch 126/250\n",
            " - 119s - loss: 0.3216 - acc: 0.8595\n",
            "Epoch 127/250\n",
            " - 116s - loss: 0.3204 - acc: 0.8592\n",
            "Epoch 128/250\n",
            " - 117s - loss: 0.3204 - acc: 0.8607\n",
            "Epoch 129/250\n",
            " - 118s - loss: 0.3216 - acc: 0.8568\n",
            "Epoch 130/250\n",
            " - 119s - loss: 0.3218 - acc: 0.8616\n",
            "Epoch 131/250\n",
            " - 118s - loss: 0.3210 - acc: 0.8578\n",
            "Epoch 132/250\n",
            " - 116s - loss: 0.3226 - acc: 0.8570\n",
            "Epoch 133/250\n",
            " - 119s - loss: 0.3182 - acc: 0.8589\n",
            "Epoch 134/250\n",
            " - 118s - loss: 0.3224 - acc: 0.8598\n",
            "Epoch 135/250\n",
            " - 118s - loss: 0.3191 - acc: 0.8604\n",
            "Epoch 136/250\n",
            " - 116s - loss: 0.3182 - acc: 0.8605\n",
            "Epoch 137/250\n",
            " - 118s - loss: 0.3188 - acc: 0.8590\n",
            "Epoch 138/250\n",
            " - 117s - loss: 0.3210 - acc: 0.8575\n",
            "Epoch 139/250\n",
            " - 118s - loss: 0.3166 - acc: 0.8611\n",
            "Epoch 140/250\n",
            " - 116s - loss: 0.3183 - acc: 0.8611\n",
            "Epoch 141/250\n",
            " - 118s - loss: 0.3233 - acc: 0.8575\n",
            "Epoch 142/250\n",
            " - 119s - loss: 0.3218 - acc: 0.8578\n",
            "Epoch 143/250\n",
            " - 119s - loss: 0.3208 - acc: 0.8582\n",
            "Epoch 144/250\n",
            " - 117s - loss: 0.3181 - acc: 0.8587\n",
            "Epoch 145/250\n",
            " - 118s - loss: 0.3175 - acc: 0.8580\n",
            "Epoch 146/250\n",
            " - 126s - loss: 0.3144 - acc: 0.8628\n",
            "Epoch 147/250\n",
            " - 119s - loss: 0.3206 - acc: 0.8588\n",
            "Epoch 148/250\n",
            " - 117s - loss: 0.3186 - acc: 0.8586\n",
            "Epoch 149/250\n",
            " - 115s - loss: 0.3125 - acc: 0.8628\n",
            "Epoch 150/250\n",
            " - 118s - loss: 0.3146 - acc: 0.8628\n",
            "Epoch 151/250\n",
            " - 116s - loss: 0.3156 - acc: 0.8618\n",
            "Epoch 152/250\n",
            " - 118s - loss: 0.3181 - acc: 0.8624\n",
            "Epoch 153/250\n",
            " - 117s - loss: 0.3166 - acc: 0.8601\n",
            "Epoch 154/250\n",
            " - 118s - loss: 0.3173 - acc: 0.8614\n",
            "Epoch 155/250\n",
            " - 117s - loss: 0.3186 - acc: 0.8612\n",
            "Epoch 156/250\n",
            " - 118s - loss: 0.3156 - acc: 0.8617\n",
            "Epoch 157/250\n",
            " - 116s - loss: 0.3188 - acc: 0.8608\n",
            "Epoch 158/250\n",
            " - 118s - loss: 0.3164 - acc: 0.8602\n",
            "Epoch 159/250\n",
            " - 118s - loss: 0.3143 - acc: 0.8599\n",
            "Epoch 160/250\n",
            " - 118s - loss: 0.3153 - acc: 0.8602\n",
            "Epoch 161/250\n",
            " - 118s - loss: 0.3123 - acc: 0.8622\n",
            "Epoch 162/250\n",
            " - 116s - loss: 0.3174 - acc: 0.8604\n",
            "Epoch 163/250\n",
            " - 119s - loss: 0.3168 - acc: 0.8622\n",
            "Epoch 164/250\n",
            " - 116s - loss: 0.3169 - acc: 0.8606\n",
            "Epoch 165/250\n",
            " - 117s - loss: 0.3155 - acc: 0.8616\n",
            "Epoch 166/250\n",
            " - 119s - loss: 0.3176 - acc: 0.8587\n",
            "Epoch 167/250\n",
            " - 120s - loss: 0.3182 - acc: 0.8622\n",
            "Epoch 168/250\n",
            " - 119s - loss: 0.3142 - acc: 0.8630\n",
            "Epoch 169/250\n",
            " - 118s - loss: 0.3133 - acc: 0.8653\n",
            "Epoch 170/250\n",
            " - 116s - loss: 0.3121 - acc: 0.8632\n",
            "Epoch 171/250\n",
            " - 118s - loss: 0.3127 - acc: 0.8628\n",
            "Epoch 172/250\n",
            " - 116s - loss: 0.3061 - acc: 0.8679\n",
            "Epoch 173/250\n",
            " - 116s - loss: 0.3138 - acc: 0.8629\n",
            "Epoch 174/250\n",
            " - 119s - loss: 0.3183 - acc: 0.8599\n",
            "Epoch 175/250\n",
            " - 116s - loss: 0.3096 - acc: 0.8658\n",
            "Epoch 176/250\n",
            " - 119s - loss: 0.3120 - acc: 0.8641\n",
            "Epoch 177/250\n",
            " - 117s - loss: 0.3093 - acc: 0.8644\n",
            "Epoch 178/250\n",
            " - 118s - loss: 0.3082 - acc: 0.8661\n",
            "Epoch 179/250\n",
            " - 118s - loss: 0.3134 - acc: 0.8614\n",
            "Epoch 180/250\n",
            " - 118s - loss: 0.3082 - acc: 0.8650\n",
            "Epoch 181/250\n",
            " - 116s - loss: 0.3059 - acc: 0.8670\n",
            "Epoch 182/250\n",
            " - 120s - loss: 0.3123 - acc: 0.8613\n",
            "Epoch 183/250\n",
            " - 115s - loss: 0.3154 - acc: 0.8626\n",
            "Epoch 184/250\n",
            " - 117s - loss: 0.3084 - acc: 0.8655\n",
            "Epoch 185/250\n",
            " - 116s - loss: 0.3129 - acc: 0.8620\n",
            "Epoch 186/250\n",
            " - 115s - loss: 0.3136 - acc: 0.8610\n",
            "Epoch 187/250\n",
            " - 119s - loss: 0.3140 - acc: 0.8636\n",
            "Epoch 188/250\n",
            " - 115s - loss: 0.3075 - acc: 0.8663\n",
            "Epoch 189/250\n",
            " - 116s - loss: 0.3095 - acc: 0.8619\n",
            "Epoch 190/250\n",
            " - 117s - loss: 0.3102 - acc: 0.8649\n",
            "Epoch 191/250\n",
            " - 116s - loss: 0.3103 - acc: 0.8629\n",
            "Epoch 192/250\n",
            " - 116s - loss: 0.3152 - acc: 0.8620\n",
            "Epoch 193/250\n",
            " - 117s - loss: 0.3076 - acc: 0.8653\n",
            "Epoch 194/250\n",
            " - 115s - loss: 0.3115 - acc: 0.8638\n",
            "Epoch 195/250\n",
            " - 118s - loss: 0.3109 - acc: 0.8650\n",
            "Epoch 196/250\n",
            " - 118s - loss: 0.3122 - acc: 0.8636\n",
            "Epoch 197/250\n",
            " - 116s - loss: 0.3084 - acc: 0.8648\n",
            "Epoch 198/250\n",
            " - 119s - loss: 0.3106 - acc: 0.8651\n",
            "Epoch 199/250\n",
            " - 116s - loss: 0.3046 - acc: 0.8675\n",
            "Epoch 200/250\n",
            " - 119s - loss: 0.3124 - acc: 0.8624\n",
            "Epoch 201/250\n",
            " - 116s - loss: 0.3086 - acc: 0.8646\n",
            "Epoch 202/250\n",
            " - 117s - loss: 0.3094 - acc: 0.8633\n",
            "Epoch 203/250\n",
            " - 118s - loss: 0.3078 - acc: 0.8652\n",
            "Epoch 204/250\n",
            " - 117s - loss: 0.3088 - acc: 0.8644\n",
            "Epoch 205/250\n",
            " - 117s - loss: 0.3100 - acc: 0.8643\n",
            "Epoch 206/250\n",
            " - 118s - loss: 0.3099 - acc: 0.8672\n",
            "Epoch 207/250\n",
            " - 119s - loss: 0.3111 - acc: 0.8652\n",
            "Epoch 208/250\n",
            " - 119s - loss: 0.3094 - acc: 0.8670\n",
            "Epoch 209/250\n",
            " - 117s - loss: 0.3037 - acc: 0.8689\n",
            "Epoch 210/250\n",
            " - 117s - loss: 0.3038 - acc: 0.8682\n",
            "Epoch 211/250\n",
            " - 120s - loss: 0.3101 - acc: 0.8641\n",
            "Epoch 212/250\n",
            " - 117s - loss: 0.3043 - acc: 0.8673\n",
            "Epoch 213/250\n",
            " - 120s - loss: 0.3066 - acc: 0.8669\n",
            "Epoch 214/250\n",
            " - 117s - loss: 0.3114 - acc: 0.8660\n",
            "Epoch 215/250\n",
            " - 118s - loss: 0.3075 - acc: 0.8673\n",
            "Epoch 216/250\n",
            " - 118s - loss: 0.3040 - acc: 0.8678\n",
            "Epoch 217/250\n",
            " - 118s - loss: 0.3056 - acc: 0.8677\n",
            "Epoch 218/250\n",
            " - 116s - loss: 0.3050 - acc: 0.8660\n",
            "Epoch 219/250\n",
            " - 120s - loss: 0.3111 - acc: 0.8643\n",
            "Epoch 220/250\n",
            " - 117s - loss: 0.3091 - acc: 0.8652\n",
            "Epoch 221/250\n",
            " - 120s - loss: 0.3065 - acc: 0.8664\n",
            "Epoch 222/250\n",
            " - 117s - loss: 0.3032 - acc: 0.8668\n",
            "Epoch 223/250\n",
            " - 117s - loss: 0.3069 - acc: 0.8668\n",
            "Epoch 224/250\n",
            " - 119s - loss: 0.3127 - acc: 0.8628\n",
            "Epoch 225/250\n",
            " - 117s - loss: 0.3054 - acc: 0.8668\n",
            "Epoch 226/250\n",
            " - 119s - loss: 0.2984 - acc: 0.8674\n",
            "Epoch 227/250\n",
            " - 117s - loss: 0.3113 - acc: 0.8630\n",
            "Epoch 228/250\n",
            " - 117s - loss: 0.3056 - acc: 0.8670\n",
            "Epoch 229/250\n",
            " - 119s - loss: 0.3071 - acc: 0.8651\n",
            "Epoch 230/250\n",
            " - 118s - loss: 0.3054 - acc: 0.8681\n",
            "Epoch 231/250\n",
            " - 116s - loss: 0.3028 - acc: 0.8679\n",
            "Epoch 232/250\n",
            " - 120s - loss: 0.3051 - acc: 0.8658\n",
            "Epoch 233/250\n",
            " - 116s - loss: 0.3031 - acc: 0.8675\n",
            "Epoch 234/250\n",
            " - 118s - loss: 0.3043 - acc: 0.8684\n",
            "Epoch 235/250\n",
            " - 116s - loss: 0.3030 - acc: 0.8678\n",
            "Epoch 236/250\n",
            " - 116s - loss: 0.3087 - acc: 0.8635\n",
            "Epoch 237/250\n",
            " - 120s - loss: 0.3036 - acc: 0.8698\n",
            "Epoch 238/250\n",
            " - 116s - loss: 0.3071 - acc: 0.8662\n",
            "Epoch 239/250\n",
            " - 118s - loss: 0.3043 - acc: 0.8667\n",
            "Epoch 240/250\n",
            " - 117s - loss: 0.3032 - acc: 0.8684\n",
            "Epoch 241/250\n",
            " - 117s - loss: 0.3096 - acc: 0.8637\n",
            "Epoch 242/250\n",
            " - 118s - loss: 0.3045 - acc: 0.8678\n",
            "Epoch 243/250\n",
            " - 117s - loss: 0.3075 - acc: 0.8653\n",
            "Epoch 244/250\n",
            " - 117s - loss: 0.3048 - acc: 0.8691\n",
            "Epoch 245/250\n",
            " - 119s - loss: 0.3089 - acc: 0.8641\n",
            "Epoch 246/250\n",
            " - 117s - loss: 0.3062 - acc: 0.8656\n",
            "Epoch 247/250\n",
            " - 118s - loss: 0.3093 - acc: 0.8656\n",
            "Epoch 248/250\n",
            " - 118s - loss: 0.3051 - acc: 0.8686\n",
            "Epoch 249/250\n",
            " - 117s - loss: 0.3040 - acc: 0.8684\n",
            "Epoch 250/250\n",
            " - 119s - loss: 0.3008 - acc: 0.8696\n",
            "LSTM model trained in 29496.085941 seconds\n"
          ],
          "name": "stdout"
        }
      ]
    },
    {
      "metadata": {
        "id": "okjsys-ro6ld",
        "colab_type": "code",
        "outputId": "8c439cc3-dc6c-4286-b6e4-bc1eb7b5d54a",
        "colab": {
          "base_uri": "https://localhost:8080/",
          "height": 35
        }
      },
      "cell_type": "code",
      "source": [
        "score,acc = lstm_model.evaluate(Xtest, test_y_ec, verbose = 2, batch_size = 32)\n",
        "print(\"acc: %.2f\" % (acc))"
      ],
      "execution_count": 24,
      "outputs": [
        {
          "output_type": "stream",
          "text": [
            "acc:  0.9211\n"
          ],
          "name": "stdout"
        }
      ]
    },
    {
      "metadata": {
        "id": "HsM6EOE13NiI",
        "colab_type": "code",
        "colab": {}
      },
      "cell_type": "code",
      "source": [
        "h = history.history.copy()"
      ],
      "execution_count": 0,
      "outputs": []
    },
    {
      "metadata": {
        "id": "bcpyw-pHpF1h",
        "colab_type": "code",
        "outputId": "f22c7fed-3041-4fe1-c795-b30b7ab9c1c0",
        "colab": {
          "base_uri": "https://localhost:8080/",
          "height": 287
        }
      },
      "cell_type": "code",
      "source": [
        "plt.plot(h['loss'])"
      ],
      "execution_count": 26,
      "outputs": [
        {
          "output_type": "execute_result",
          "data": {
            "text/plain": [
              "[<matplotlib.lines.Line2D at 0x7fbde0b77128>]"
            ]
          },
          "metadata": {
            "tags": []
          },
          "execution_count": 26
        },
        {
          "output_type": "display_data",
          "data": {
            "image/png": "[encoded data removed]",
            "text/plain": [
              "<Figure size 432x288 with 1 Axes>"
            ]
          },
          "metadata": {
            "tags": []
          }
        }
      ]
    },
    {
      "metadata": {
        "id": "asC8_H66pIHn",
        "colab_type": "code",
        "outputId": "d6657736-d414-4d06-9c22-4460d31cf1c0",
        "colab": {
          "base_uri": "https://localhost:8080/",
          "height": 35
        }
      },
      "cell_type": "code",
      "source": [
        "sample = [\"this movie is worst\"]\n",
        "sample_ec = tokenizer.texts_to_sequences(sample)\n",
        "sample_ec_pad = pad_sequences(sample_ec, maxlen=100, padding='post')\n",
        "sample_prediction = lstm_model.predict(sample_ec_pad)\n",
        "result = \"neg\" if sample_prediction < 0.5 else \"pos\"\n",
        "print (\"the prediction result on the sample comment is: \" + result)"
      ],
      "execution_count": 27,
      "outputs": [
        {
          "output_type": "stream",
          "text": [
            "the prediction result on the sample comment is: neg\n"
          ],
          "name": "stdout"
        }
      ]
    },
    {
      "metadata": {
        "id": "blCNg42Eafac",
        "colab_type": "code",
        "colab": {}
      },
      "cell_type": "code",
      "source": [
        ""
      ],
      "execution_count": 0,
      "outputs": []
    }
  ]
}